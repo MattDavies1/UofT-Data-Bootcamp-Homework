{
 "cells": [
  {
   "source": [
    "# Heroes of Pymopoli Pandas Homework\n",
    "\n",
    "**Author:** Matt Davies<br>\n",
    "**Date:** 24/10/20\n",
    "\n",
    "### Conclusions from data:\n",
    "\n",
    "<ol>\n",
    "<li>Men are the largest source of revenue for Heroes of Pymopoli (HoP) by gender, however they tend to spend less per user than women and gender-non-specified users</li>\n",
    "<li>20-24 year olds represend the largest percentage of players and revenue stream for HoP, while users age 10 and below spend the most per transaction</li>\n",
    "<li>The 5 most popular and 5 highest revenue generating items are at least >33% more expensive than the mean item price in the game\n",
    "</ol>\n",
    "\n"
   ],
   "cell_type": "markdown",
   "metadata": {}
  },
  {
   "cell_type": "code",
   "execution_count": 135,
   "metadata": {},
   "outputs": [
    {
     "output_type": "execute_result",
     "data": {
      "text/plain": [
       "   Purchase ID             SN  Age Gender  Item ID  \\\n",
       "0            0        Lisim78   20   Male      108   \n",
       "1            1    Lisovynya38   40   Male      143   \n",
       "2            2     Ithergue48   24   Male       92   \n",
       "3            3  Chamassasya86   24   Male      100   \n",
       "4            4      Iskosia90   23   Male      131   \n",
       "\n",
       "                                   Item Name  Price  \n",
       "0  Extraction, Quickblade Of Trembling Hands   3.53  \n",
       "1                          Frenzied Scimitar   1.56  \n",
       "2                               Final Critic   4.88  \n",
       "3                                Blindscythe   3.27  \n",
       "4                                       Fury   1.44  "
      ],
      "text/html": "<div>\n<style scoped>\n    .dataframe tbody tr th:only-of-type {\n        vertical-align: middle;\n    }\n\n    .dataframe tbody tr th {\n        vertical-align: top;\n    }\n\n    .dataframe thead th {\n        text-align: right;\n    }\n</style>\n<table border=\"1\" class=\"dataframe\">\n  <thead>\n    <tr style=\"text-align: right;\">\n      <th></th>\n      <th>Purchase ID</th>\n      <th>SN</th>\n      <th>Age</th>\n      <th>Gender</th>\n      <th>Item ID</th>\n      <th>Item Name</th>\n      <th>Price</th>\n    </tr>\n  </thead>\n  <tbody>\n    <tr>\n      <th>0</th>\n      <td>0</td>\n      <td>Lisim78</td>\n      <td>20</td>\n      <td>Male</td>\n      <td>108</td>\n      <td>Extraction, Quickblade Of Trembling Hands</td>\n      <td>3.53</td>\n    </tr>\n    <tr>\n      <th>1</th>\n      <td>1</td>\n      <td>Lisovynya38</td>\n      <td>40</td>\n      <td>Male</td>\n      <td>143</td>\n      <td>Frenzied Scimitar</td>\n      <td>1.56</td>\n    </tr>\n    <tr>\n      <th>2</th>\n      <td>2</td>\n      <td>Ithergue48</td>\n      <td>24</td>\n      <td>Male</td>\n      <td>92</td>\n      <td>Final Critic</td>\n      <td>4.88</td>\n    </tr>\n    <tr>\n      <th>3</th>\n      <td>3</td>\n      <td>Chamassasya86</td>\n      <td>24</td>\n      <td>Male</td>\n      <td>100</td>\n      <td>Blindscythe</td>\n      <td>3.27</td>\n    </tr>\n    <tr>\n      <th>4</th>\n      <td>4</td>\n      <td>Iskosia90</td>\n      <td>23</td>\n      <td>Male</td>\n      <td>131</td>\n      <td>Fury</td>\n      <td>1.44</td>\n    </tr>\n  </tbody>\n</table>\n</div>"
     },
     "metadata": {},
     "execution_count": 135
    }
   ],
   "source": [
    "# Dependencies and Setup\n",
    "import pandas as pd\n",
    "\n",
    "# File to Load (Remember to Change These)\n",
    "file_to_load = \"Resources/purchase_data.csv\"\n",
    "\n",
    "# Read Purchasing File and store into Pandas data frame\n",
    "purchase_data = pd.read_csv(file_to_load)\n",
    "purchase_data.head()"
   ]
  },
  {
   "cell_type": "markdown",
   "metadata": {},
   "source": [
    "## Player Count"
   ]
  },
  {
   "cell_type": "code",
   "execution_count": 136,
   "metadata": {},
   "outputs": [
    {
     "output_type": "execute_result",
     "data": {
      "text/plain": [
       "576"
      ]
     },
     "metadata": {},
     "execution_count": 136
    }
   ],
   "source": [
    "# Total Number of Players:\n",
    "# Count length of unique SN in dataframe\n",
    "player_count = len(purchase_data.SN.unique())\n",
    "player_count"
   ]
  },
  {
   "cell_type": "markdown",
   "metadata": {},
   "source": [
    "## Purchasing Analysis (Total)"
   ]
  },
  {
   "cell_type": "code",
   "execution_count": 137,
   "metadata": {
    "scrolled": true
   },
   "outputs": [
    {
     "output_type": "execute_result",
     "data": {
      "text/plain": [
       "   unique_items avg_price  number_purchases   revenue\n",
       "0           179     $3.05               780  $2379.77"
      ],
      "text/html": "<div>\n<style scoped>\n    .dataframe tbody tr th:only-of-type {\n        vertical-align: middle;\n    }\n\n    .dataframe tbody tr th {\n        vertical-align: top;\n    }\n\n    .dataframe thead th {\n        text-align: right;\n    }\n</style>\n<table border=\"1\" class=\"dataframe\">\n  <thead>\n    <tr style=\"text-align: right;\">\n      <th></th>\n      <th>unique_items</th>\n      <th>avg_price</th>\n      <th>number_purchases</th>\n      <th>revenue</th>\n    </tr>\n  </thead>\n  <tbody>\n    <tr>\n      <th>0</th>\n      <td>179</td>\n      <td>$3.05</td>\n      <td>780</td>\n      <td>$2379.77</td>\n    </tr>\n  </tbody>\n</table>\n</div>"
     },
     "metadata": {},
     "execution_count": 137
    }
   ],
   "source": [
    "# number of unique items\n",
    "unique_items = len(purchase_data['Item ID'].unique())\n",
    "# average price\n",
    "avg_price = purchase_data['Price'].mean()\n",
    "# number of purchases\n",
    "number_purchases = len(purchase_data['Purchase ID'].unique())\n",
    "# Revenue\n",
    "revenue = purchase_data['Price'].sum()\n",
    "\n",
    "# Assemble Dataframe\n",
    "summary_df = pd.DataFrame({'unique_items':unique_items, 'avg_price':avg_price, 'number_purchases':number_purchases, 'revenue':revenue}, index = [0])\n",
    "\n",
    "# Format Variables\n",
    "summary_df.avg_price = summary_df.avg_price.map('${:.2f}'.format)\n",
    "summary_df.revenue = summary_df.revenue.map('${:.2f}'.format)\n",
    "summary_df"
   ]
  },
  {
   "cell_type": "markdown",
   "metadata": {},
   "source": [
    "## Gender Demographics"
   ]
  },
  {
   "cell_type": "code",
   "execution_count": 146,
   "metadata": {},
   "outputs": [
    {
     "output_type": "execute_result",
     "data": {
      "text/plain": [
       "                       total_count pct_players\n",
       "gender                                        \n",
       "Male                           484      84.03%\n",
       "Female                          81      14.06%\n",
       "Other / Non-Disclosed           11       1.91%"
      ],
      "text/html": "<div>\n<style scoped>\n    .dataframe tbody tr th:only-of-type {\n        vertical-align: middle;\n    }\n\n    .dataframe tbody tr th {\n        vertical-align: top;\n    }\n\n    .dataframe thead th {\n        text-align: right;\n    }\n</style>\n<table border=\"1\" class=\"dataframe\">\n  <thead>\n    <tr style=\"text-align: right;\">\n      <th></th>\n      <th>total_count</th>\n      <th>pct_players</th>\n    </tr>\n    <tr>\n      <th>gender</th>\n      <th></th>\n      <th></th>\n    </tr>\n  </thead>\n  <tbody>\n    <tr>\n      <th>Male</th>\n      <td>484</td>\n      <td>84.03%</td>\n    </tr>\n    <tr>\n      <th>Female</th>\n      <td>81</td>\n      <td>14.06%</td>\n    </tr>\n    <tr>\n      <th>Other / Non-Disclosed</th>\n      <td>11</td>\n      <td>1.91%</td>\n    </tr>\n  </tbody>\n</table>\n</div>"
     },
     "metadata": {},
     "execution_count": 146
    }
   ],
   "source": [
    "# Slice Dataframe to include ONLY unique users\n",
    "unique_users_df = purchase_data.drop_duplicates(subset=['SN'])\n",
    "\n",
    "# Total Counts\n",
    "# Male\n",
    "male_users_df= unique_users_df.loc[unique_users_df['Gender'] == 'Male', :]\n",
    "number_male_users = len(male_users_df)\n",
    "# Female\n",
    "female_users_df= unique_users_df.loc[unique_users_df['Gender'] == 'Female', :]\n",
    "number_female_users = len(female_users_df)\n",
    "# Other\n",
    "other_users_df= unique_users_df.loc[unique_users_df['Gender'] == 'Other / Non-Disclosed', :]\n",
    "number_other_users = len(other_users_df)\n",
    "\n",
    "# Make lists of Data for array input\n",
    "male_list = ['Male', number_male_users, number_male_users/player_count*100 ]\n",
    "female_list = ['Female', number_female_users, number_female_users/player_count*100 ]\n",
    "other_list = ['Other / Non-Disclosed', number_other_users, number_other_users/player_count*100 ]\n",
    "\n",
    "# Make DataFrame\n",
    "gender_df = pd.DataFrame([male_list, female_list, other_list], columns=['gender','total_count','pct_players'])\n",
    "gender_df.pct_players = gender_df.pct_players.map('{:.2f}%'.format)\n",
    "\n",
    "# Set Gender as index\n",
    "gender_df = gender_df.set_index('gender')\n",
    "gender_df"
   ]
  },
  {
   "cell_type": "markdown",
   "metadata": {},
   "source": [
    "\n",
    "## Purchasing Analysis (Gender)"
   ]
  },
  {
   "cell_type": "code",
   "execution_count": 139,
   "metadata": {},
   "outputs": [
    {
     "output_type": "execute_result",
     "data": {
      "text/plain": [
       "                       purchase_count average_purchase_price  \\\n",
       "Gender                                                         \n",
       "Female                            113                  $3.20   \n",
       "Male                              652                  $3.02   \n",
       "Other / Non-Disclosed              15                  $3.35   \n",
       "\n",
       "                      total_purchase_revenue average_total_purchased_per_user  \n",
       "Gender                                                                         \n",
       "Female                               $361.94                            $4.47  \n",
       "Male                               $1,967.64                            $4.07  \n",
       "Other / Non-Disclosed                 $50.19                            $4.56  "
      ],
      "text/html": "<div>\n<style scoped>\n    .dataframe tbody tr th:only-of-type {\n        vertical-align: middle;\n    }\n\n    .dataframe tbody tr th {\n        vertical-align: top;\n    }\n\n    .dataframe thead th {\n        text-align: right;\n    }\n</style>\n<table border=\"1\" class=\"dataframe\">\n  <thead>\n    <tr style=\"text-align: right;\">\n      <th></th>\n      <th>purchase_count</th>\n      <th>average_purchase_price</th>\n      <th>total_purchase_revenue</th>\n      <th>average_total_purchased_per_user</th>\n    </tr>\n    <tr>\n      <th>Gender</th>\n      <th></th>\n      <th></th>\n      <th></th>\n      <th></th>\n    </tr>\n  </thead>\n  <tbody>\n    <tr>\n      <th>Female</th>\n      <td>113</td>\n      <td>$3.20</td>\n      <td>$361.94</td>\n      <td>$4.47</td>\n    </tr>\n    <tr>\n      <th>Male</th>\n      <td>652</td>\n      <td>$3.02</td>\n      <td>$1,967.64</td>\n      <td>$4.07</td>\n    </tr>\n    <tr>\n      <th>Other / Non-Disclosed</th>\n      <td>15</td>\n      <td>$3.35</td>\n      <td>$50.19</td>\n      <td>$4.56</td>\n    </tr>\n  </tbody>\n</table>\n</div>"
     },
     "metadata": {},
     "execution_count": 139
    }
   ],
   "source": [
    "gender_grouped = purchase_data.groupby('Gender')\n",
    "\n",
    "# Purchase Count\n",
    "purchace_count = gender_grouped['Price'].count().round(2)\n",
    "# Average Purchase Price\n",
    "avg_purchace_price = gender_grouped['Price'].mean().map('${:.2f}'.format)\n",
    "# Total Purchase Revenue\n",
    "tot_purchase_rev = gender_grouped['Price'].sum().map('${:,.2f}'.format)\n",
    "# Avg total purchased per user\n",
    "user_gender_grouped = purchase_data.groupby(['Gender','SN'])\n",
    "user_gender_grouped = user_gender_grouped.sum()\n",
    "avg_tot_user = user_gender_grouped['Price'].groupby('Gender').mean().map('${:.2f}'.format)\n",
    "\n",
    "# Assemble DataFrame\n",
    "## Merge Purcase Count with Avg Purchase Price\n",
    "gender_purchase_table = pd.merge(purchace_count, avg_purchace_price, on = 'Gender')\n",
    "## Rename columns\n",
    "gender_purchase_table = gender_purchase_table.rename(columns={'Price_x':'purchase_count', 'Price_y':'average_purchase_price'})\n",
    "## Merge tot. purchase rev. and avg. tot. per user\n",
    "gender_purchase_table = pd.merge(gender_purchase_table, tot_purchase_rev, on = 'Gender')\n",
    "gender_purchase_table = pd.merge(gender_purchase_table, avg_tot_user, on = 'Gender')\n",
    "## Rename Columns\n",
    "gender_purchase_table = gender_purchase_table.rename(columns={'Price_x':'total_purchase_revenue', 'Price_y':'average_total_purchased_per_user'})\n",
    "\n",
    "# DataFrame\n",
    "gender_purchase_table"
   ]
  },
  {
   "cell_type": "markdown",
   "metadata": {},
   "source": [
    "## Age Demographics"
   ]
  },
  {
   "cell_type": "code",
   "execution_count": 140,
   "metadata": {},
   "outputs": [],
   "source": [
    "# Establish bins for ages\n",
    "bins = [0,9,14,19,24,29,34,39,100]\n",
    "group_names = ['<10', '10-14', '15-19', '20-24', '25-29', '30-34', '35-40', '40+']\n",
    "# Categorize the existing players using age bins\n",
    "age_purchase_data = purchase_data\n",
    "age_purchase_data['Age'] = pd.cut(purchase_data['Age'], bins, labels=group_names)"
   ]
  },
  {
   "cell_type": "code",
   "execution_count": 141,
   "metadata": {},
   "outputs": [
    {
     "output_type": "execute_result",
     "data": {
      "text/plain": [
       "       unique_users percentage_of_players\n",
       "Age                                      \n",
       "<10              17                 2.95%\n",
       "10-14            22                 3.82%\n",
       "15-19           107                18.58%\n",
       "20-24           258                44.79%\n",
       "25-29            77                13.37%\n",
       "30-34            52                 9.03%\n",
       "35-40            31                 5.38%\n",
       "40+              12                 2.08%"
      ],
      "text/html": "<div>\n<style scoped>\n    .dataframe tbody tr th:only-of-type {\n        vertical-align: middle;\n    }\n\n    .dataframe tbody tr th {\n        vertical-align: top;\n    }\n\n    .dataframe thead th {\n        text-align: right;\n    }\n</style>\n<table border=\"1\" class=\"dataframe\">\n  <thead>\n    <tr style=\"text-align: right;\">\n      <th></th>\n      <th>unique_users</th>\n      <th>percentage_of_players</th>\n    </tr>\n    <tr>\n      <th>Age</th>\n      <th></th>\n      <th></th>\n    </tr>\n  </thead>\n  <tbody>\n    <tr>\n      <th>&lt;10</th>\n      <td>17</td>\n      <td>2.95%</td>\n    </tr>\n    <tr>\n      <th>10-14</th>\n      <td>22</td>\n      <td>3.82%</td>\n    </tr>\n    <tr>\n      <th>15-19</th>\n      <td>107</td>\n      <td>18.58%</td>\n    </tr>\n    <tr>\n      <th>20-24</th>\n      <td>258</td>\n      <td>44.79%</td>\n    </tr>\n    <tr>\n      <th>25-29</th>\n      <td>77</td>\n      <td>13.37%</td>\n    </tr>\n    <tr>\n      <th>30-34</th>\n      <td>52</td>\n      <td>9.03%</td>\n    </tr>\n    <tr>\n      <th>35-40</th>\n      <td>31</td>\n      <td>5.38%</td>\n    </tr>\n    <tr>\n      <th>40+</th>\n      <td>12</td>\n      <td>2.08%</td>\n    </tr>\n  </tbody>\n</table>\n</div>"
     },
     "metadata": {},
     "execution_count": 141
    }
   ],
   "source": [
    "# Calculate the unique users by age group\n",
    "counts_by_age = age_purchase_data.groupby(['Age', 'SN']).count().groupby('Age').count()\n",
    "# Discard erroneous columns\n",
    "users_by_age = counts_by_age['Purchase ID']\n",
    "# Creat variable for percentage of players\n",
    "pct_by_age = users_by_age/player_count*100\n",
    "# Format\n",
    "pct_by_age = pct_by_age.map('{:.2f}%'.format)\n",
    "# Create a summary data frame to hold the results\n",
    "age_demos = pd.merge(users_by_age, pct_by_age, on = \"Age\")\n",
    "age_demos = age_demos.rename(columns={\"Purchase ID_x\":'unique_users',  'Purchase ID_y':'percentage_of_players'})\n",
    "age_demos"
   ]
  },
  {
   "cell_type": "markdown",
   "metadata": {},
   "source": [
    "## Purchasing Analysis (Age)"
   ]
  },
  {
   "cell_type": "code",
   "execution_count": 142,
   "metadata": {},
   "outputs": [
    {
     "output_type": "execute_result",
     "data": {
      "text/plain": [
       "       purchase_count average_purchase_price total_purchase_revenue  \\\n",
       "Age                                                                   \n",
       "<10                23                  $3.35                 $77.13   \n",
       "10-14              28                  $2.96                 $82.78   \n",
       "15-19             136                  $3.04                $412.89   \n",
       "20-24             365                  $3.05              $1,114.06   \n",
       "25-29             101                  $2.90                $293.00   \n",
       "30-34              73                  $2.93                $214.00   \n",
       "35-40              41                  $3.60                $147.67   \n",
       "40+                13                  $2.94                 $38.24   \n",
       "\n",
       "      average_total_purchased_per_user  \n",
       "Age                                     \n",
       "<10                              $4.54  \n",
       "10-14                            $3.76  \n",
       "15-19                            $3.86  \n",
       "20-24                            $4.32  \n",
       "25-29                            $3.81  \n",
       "30-34                            $4.12  \n",
       "35-40                            $4.76  \n",
       "40+                              $3.19  "
      ],
      "text/html": "<div>\n<style scoped>\n    .dataframe tbody tr th:only-of-type {\n        vertical-align: middle;\n    }\n\n    .dataframe tbody tr th {\n        vertical-align: top;\n    }\n\n    .dataframe thead th {\n        text-align: right;\n    }\n</style>\n<table border=\"1\" class=\"dataframe\">\n  <thead>\n    <tr style=\"text-align: right;\">\n      <th></th>\n      <th>purchase_count</th>\n      <th>average_purchase_price</th>\n      <th>total_purchase_revenue</th>\n      <th>average_total_purchased_per_user</th>\n    </tr>\n    <tr>\n      <th>Age</th>\n      <th></th>\n      <th></th>\n      <th></th>\n      <th></th>\n    </tr>\n  </thead>\n  <tbody>\n    <tr>\n      <th>&lt;10</th>\n      <td>23</td>\n      <td>$3.35</td>\n      <td>$77.13</td>\n      <td>$4.54</td>\n    </tr>\n    <tr>\n      <th>10-14</th>\n      <td>28</td>\n      <td>$2.96</td>\n      <td>$82.78</td>\n      <td>$3.76</td>\n    </tr>\n    <tr>\n      <th>15-19</th>\n      <td>136</td>\n      <td>$3.04</td>\n      <td>$412.89</td>\n      <td>$3.86</td>\n    </tr>\n    <tr>\n      <th>20-24</th>\n      <td>365</td>\n      <td>$3.05</td>\n      <td>$1,114.06</td>\n      <td>$4.32</td>\n    </tr>\n    <tr>\n      <th>25-29</th>\n      <td>101</td>\n      <td>$2.90</td>\n      <td>$293.00</td>\n      <td>$3.81</td>\n    </tr>\n    <tr>\n      <th>30-34</th>\n      <td>73</td>\n      <td>$2.93</td>\n      <td>$214.00</td>\n      <td>$4.12</td>\n    </tr>\n    <tr>\n      <th>35-40</th>\n      <td>41</td>\n      <td>$3.60</td>\n      <td>$147.67</td>\n      <td>$4.76</td>\n    </tr>\n    <tr>\n      <th>40+</th>\n      <td>13</td>\n      <td>$2.94</td>\n      <td>$38.24</td>\n      <td>$3.19</td>\n    </tr>\n  </tbody>\n</table>\n</div>"
     },
     "metadata": {},
     "execution_count": 142
    }
   ],
   "source": [
    "age_grouped = age_purchase_data.groupby('Age')\n",
    "\n",
    "# Purchase Count\n",
    "age_purchace_count = age_grouped['Price'].count().round(2)\n",
    "# Average Purchase Price\n",
    "age_avg_purchace_price = age_grouped['Price'].mean().map('${:.2f}'.format)\n",
    "# Total Purchase Revenue\n",
    "age_tot_purchase_rev = age_grouped['Price'].sum().map('${:,.2f}'.format)\n",
    "# Avg total purchased per user\n",
    "age_user_gender_grouped = purchase_data.groupby(['Age','SN'])\n",
    "age_user_gender_grouped = age_user_gender_grouped.sum()\n",
    "age_avg_tot_user = age_user_gender_grouped['Price'].groupby('Age').mean().map('${:.2f}'.format)\n",
    "\n",
    "# Make DataFrame\n",
    "## Merge Purcase Count with Avg Purchase Price\n",
    "age_purchase_table = pd.merge(age_purchace_count, age_avg_purchace_price, on = 'Age')\n",
    "## Rename columns\n",
    "age_purchase_table = age_purchase_table.rename(columns={'Price_x':'purchase_count', 'Price_y':'average_purchase_price'})\n",
    "## Merge tot. purchase rev. and avg. tot. per user\n",
    "age_purchase_table = pd.merge(age_purchase_table, age_tot_purchase_rev, on = 'Age')\n",
    "age_purchase_table = pd.merge(age_purchase_table, age_avg_tot_user, on = 'Age')\n",
    "## Rename Columns\n",
    "age_purchase_table = age_purchase_table.rename(columns={'Price_x':'total_purchase_revenue', 'Price_y':'average_total_purchased_per_user'})\n",
    "\n",
    "# DataFrame\n",
    "age_purchase_table"
   ]
  },
  {
   "cell_type": "markdown",
   "metadata": {},
   "source": [
    "## Top Spenders"
   ]
  },
  {
   "cell_type": "code",
   "execution_count": 143,
   "metadata": {},
   "outputs": [
    {
     "output_type": "execute_result",
     "data": {
      "text/plain": [
       "            total_purchase_value  purchase_count average_purchase_price\n",
       "SN                                                                     \n",
       "Lisosia93                 $18.96               5                  $3.79\n",
       "Idastidru52               $15.45               4                  $3.86\n",
       "Chamjask73                $13.83               3                  $4.61\n",
       "Iral74                    $13.62               4                  $3.40\n",
       "Iskadarya95               $13.10               3                  $4.37"
      ],
      "text/html": "<div>\n<style scoped>\n    .dataframe tbody tr th:only-of-type {\n        vertical-align: middle;\n    }\n\n    .dataframe tbody tr th {\n        vertical-align: top;\n    }\n\n    .dataframe thead th {\n        text-align: right;\n    }\n</style>\n<table border=\"1\" class=\"dataframe\">\n  <thead>\n    <tr style=\"text-align: right;\">\n      <th></th>\n      <th>total_purchase_value</th>\n      <th>purchase_count</th>\n      <th>average_purchase_price</th>\n    </tr>\n    <tr>\n      <th>SN</th>\n      <th></th>\n      <th></th>\n      <th></th>\n    </tr>\n  </thead>\n  <tbody>\n    <tr>\n      <th>Lisosia93</th>\n      <td>$18.96</td>\n      <td>5</td>\n      <td>$3.79</td>\n    </tr>\n    <tr>\n      <th>Idastidru52</th>\n      <td>$15.45</td>\n      <td>4</td>\n      <td>$3.86</td>\n    </tr>\n    <tr>\n      <th>Chamjask73</th>\n      <td>$13.83</td>\n      <td>3</td>\n      <td>$4.61</td>\n    </tr>\n    <tr>\n      <th>Iral74</th>\n      <td>$13.62</td>\n      <td>4</td>\n      <td>$3.40</td>\n    </tr>\n    <tr>\n      <th>Iskadarya95</th>\n      <td>$13.10</td>\n      <td>3</td>\n      <td>$4.37</td>\n    </tr>\n  </tbody>\n</table>\n</div>"
     },
     "metadata": {},
     "execution_count": 143
    }
   ],
   "source": [
    "users_df = purchase_data\n",
    "# Create dummy variable to count instances on group\n",
    "users_df['purchase_count'] = 1\n",
    "# Sum and sort\n",
    "whale_df = users_df.groupby('SN').sum().sort_values('Price', ascending = False)\n",
    "# Rename variables\n",
    "whale_df = whale_df.rename(columns = {'Price':'total_purchase_value'})\n",
    "# Calculate and add Average Price Column\n",
    "whale_df['average_purchase_price'] = whale_df['total_purchase_value']/whale_df['purchase_count']\n",
    "# Drop vestigal rows\n",
    "whale_df = whale_df.drop(['Purchase ID', 'Item ID'], axis = 1)\n",
    "# Format columns\n",
    "whale_df.total_purchase_value = whale_df.total_purchase_value.map('${:.2f}'.format)\n",
    "whale_df.average_purchase_price = whale_df.average_purchase_price.map('${:.2f}'.format)\n",
    "\n",
    "whale_df.head()"
   ]
  },
  {
   "cell_type": "markdown",
   "metadata": {},
   "source": [
    "## Most Popular and Profitable Items"
   ]
  },
  {
   "cell_type": "code",
   "execution_count": 144,
   "metadata": {},
   "outputs": [
    {
     "output_type": "execute_result",
     "data": {
      "text/plain": [
       "                                                     total_purchase_value  \\\n",
       "Item ID Item Name                                                           \n",
       "92      Final Critic                                               $59.99   \n",
       "178     Oathbreaker, Last Hope of the Breaking Storm               $50.76   \n",
       "145     Fiery Glass Crusader                                       $41.22   \n",
       "132     Persuasion                                                 $28.99   \n",
       "108     Extraction, Quickblade Of Trembling Hands                  $31.77   \n",
       "\n",
       "                                                      purchase_count  \\\n",
       "Item ID Item Name                                                      \n",
       "92      Final Critic                                              13   \n",
       "178     Oathbreaker, Last Hope of the Breaking Storm              12   \n",
       "145     Fiery Glass Crusader                                       9   \n",
       "132     Persuasion                                                 9   \n",
       "108     Extraction, Quickblade Of Trembling Hands                  9   \n",
       "\n",
       "                                                     item_price  \n",
       "Item ID Item Name                                                \n",
       "92      Final Critic                                      $4.61  \n",
       "178     Oathbreaker, Last Hope of the Breaking Storm      $4.23  \n",
       "145     Fiery Glass Crusader                              $4.58  \n",
       "132     Persuasion                                        $3.22  \n",
       "108     Extraction, Quickblade Of Trembling Hands         $3.53  "
      ],
      "text/html": "<div>\n<style scoped>\n    .dataframe tbody tr th:only-of-type {\n        vertical-align: middle;\n    }\n\n    .dataframe tbody tr th {\n        vertical-align: top;\n    }\n\n    .dataframe thead th {\n        text-align: right;\n    }\n</style>\n<table border=\"1\" class=\"dataframe\">\n  <thead>\n    <tr style=\"text-align: right;\">\n      <th></th>\n      <th></th>\n      <th>total_purchase_value</th>\n      <th>purchase_count</th>\n      <th>item_price</th>\n    </tr>\n    <tr>\n      <th>Item ID</th>\n      <th>Item Name</th>\n      <th></th>\n      <th></th>\n      <th></th>\n    </tr>\n  </thead>\n  <tbody>\n    <tr>\n      <th>92</th>\n      <th>Final Critic</th>\n      <td>$59.99</td>\n      <td>13</td>\n      <td>$4.61</td>\n    </tr>\n    <tr>\n      <th>178</th>\n      <th>Oathbreaker, Last Hope of the Breaking Storm</th>\n      <td>$50.76</td>\n      <td>12</td>\n      <td>$4.23</td>\n    </tr>\n    <tr>\n      <th>145</th>\n      <th>Fiery Glass Crusader</th>\n      <td>$41.22</td>\n      <td>9</td>\n      <td>$4.58</td>\n    </tr>\n    <tr>\n      <th>132</th>\n      <th>Persuasion</th>\n      <td>$28.99</td>\n      <td>9</td>\n      <td>$3.22</td>\n    </tr>\n    <tr>\n      <th>108</th>\n      <th>Extraction, Quickblade Of Trembling Hands</th>\n      <td>$31.77</td>\n      <td>9</td>\n      <td>$3.53</td>\n    </tr>\n  </tbody>\n</table>\n</div>"
     },
     "metadata": {},
     "execution_count": 144
    }
   ],
   "source": [
    "# Subset Data\n",
    "items_df = purchase_data.loc[:, ['Item ID', 'Item Name' ,'Price']]\n",
    "# Create dummy variable to count instances on group\n",
    "items_df['purchase_count'] = 1\n",
    "# Aggregate to unique iteam level\n",
    "grouped_items = items_df.groupby(['Item ID', 'Item Name']).sum()\n",
    "# Sort items by most Purchased\n",
    "popular_items = grouped_items.sort_values('purchase_count', ascending = False)\n",
    "# Calculate item price\n",
    "popular_items['item_price'] = popular_items['Price']/popular_items['purchase_count']\n",
    "# Rename columns\n",
    "popular_items = popular_items.rename(columns={'Price':'total_purchase_value'})\n",
    "\n",
    "# Format table\n",
    "popular_items['item_price'] = popular_items['item_price'].map('${:.2f}'.format)\n",
    "popular_items['total_purchase_value'] = popular_items['total_purchase_value'].map('${:.2f}'.format)\n",
    "\n",
    "popular_items.head()"
   ]
  },
  {
   "cell_type": "markdown",
   "metadata": {},
   "source": [
    "## Most Profitable Items"
   ]
  },
  {
   "cell_type": "code",
   "execution_count": 145,
   "metadata": {
    "scrolled": true
   },
   "outputs": [
    {
     "output_type": "execute_result",
     "data": {
      "text/plain": [
       "                                                     total_purchase_value  \\\n",
       "Item ID Item Name                                                           \n",
       "92      Final Critic                                               $59.99   \n",
       "178     Oathbreaker, Last Hope of the Breaking Storm               $50.76   \n",
       "82      Nirvana                                                    $44.10   \n",
       "145     Fiery Glass Crusader                                       $41.22   \n",
       "103     Singed Scalpel                                             $34.80   \n",
       "\n",
       "                                                      purchase_count  \\\n",
       "Item ID Item Name                                                      \n",
       "92      Final Critic                                              13   \n",
       "178     Oathbreaker, Last Hope of the Breaking Storm              12   \n",
       "82      Nirvana                                                    9   \n",
       "145     Fiery Glass Crusader                                       9   \n",
       "103     Singed Scalpel                                             8   \n",
       "\n",
       "                                                     item_price  \n",
       "Item ID Item Name                                                \n",
       "92      Final Critic                                      $4.61  \n",
       "178     Oathbreaker, Last Hope of the Breaking Storm      $4.23  \n",
       "82      Nirvana                                           $4.90  \n",
       "145     Fiery Glass Crusader                              $4.58  \n",
       "103     Singed Scalpel                                    $4.35  "
      ],
      "text/html": "<div>\n<style scoped>\n    .dataframe tbody tr th:only-of-type {\n        vertical-align: middle;\n    }\n\n    .dataframe tbody tr th {\n        vertical-align: top;\n    }\n\n    .dataframe thead th {\n        text-align: right;\n    }\n</style>\n<table border=\"1\" class=\"dataframe\">\n  <thead>\n    <tr style=\"text-align: right;\">\n      <th></th>\n      <th></th>\n      <th>total_purchase_value</th>\n      <th>purchase_count</th>\n      <th>item_price</th>\n    </tr>\n    <tr>\n      <th>Item ID</th>\n      <th>Item Name</th>\n      <th></th>\n      <th></th>\n      <th></th>\n    </tr>\n  </thead>\n  <tbody>\n    <tr>\n      <th>92</th>\n      <th>Final Critic</th>\n      <td>$59.99</td>\n      <td>13</td>\n      <td>$4.61</td>\n    </tr>\n    <tr>\n      <th>178</th>\n      <th>Oathbreaker, Last Hope of the Breaking Storm</th>\n      <td>$50.76</td>\n      <td>12</td>\n      <td>$4.23</td>\n    </tr>\n    <tr>\n      <th>82</th>\n      <th>Nirvana</th>\n      <td>$44.10</td>\n      <td>9</td>\n      <td>$4.90</td>\n    </tr>\n    <tr>\n      <th>145</th>\n      <th>Fiery Glass Crusader</th>\n      <td>$41.22</td>\n      <td>9</td>\n      <td>$4.58</td>\n    </tr>\n    <tr>\n      <th>103</th>\n      <th>Singed Scalpel</th>\n      <td>$34.80</td>\n      <td>8</td>\n      <td>$4.35</td>\n    </tr>\n  </tbody>\n</table>\n</div>"
     },
     "metadata": {},
     "execution_count": 145
    }
   ],
   "source": [
    "# Sort items by revenue\n",
    "revenue_sort = grouped_items.sort_values('Price', ascending = False)\n",
    "# Calculate item price\n",
    "revenue_sort['item_price'] = revenue_sort['Price']/revenue_sort['purchase_count']\n",
    "revenue_sort = revenue_sort.rename(columns={'Price':'total_purchase_value'})\n",
    "\n",
    "# Format table\n",
    "revenue_sort['item_price'] = revenue_sort['item_price'].map('${:.2f}'.format)\n",
    "revenue_sort['total_purchase_value'] = revenue_sort['total_purchase_value'].map('${:.2f}'.format)\n",
    "\n",
    "revenue_sort.head()"
   ]
  },
  {
   "cell_type": "code",
   "execution_count": null,
   "metadata": {},
   "outputs": [],
   "source": []
  }
 ],
 "metadata": {
  "anaconda-cloud": {},
  "kernel_info": {
   "name": "python3"
  },
  "kernelspec": {
   "name": "Python 3.8.3 64-bit ('base': conda)",
   "display_name": "Python 3.8.3 64-bit ('base': conda)",
   "metadata": {
    "interpreter": {
     "hash": "14873b134a6df6bdbe73dbc09885064bffe4aa7cbeeab256e9c51fc6a1e52a68"
    }
   }
  },
  "language_info": {
   "codemirror_mode": {
    "name": "ipython",
    "version": 3
   },
   "file_extension": ".py",
   "mimetype": "text/x-python",
   "name": "python",
   "nbconvert_exporter": "python",
   "pygments_lexer": "ipython3",
   "version": "3.8.3-final"
  },
  "latex_envs": {
   "LaTeX_envs_menu_present": true,
   "autoclose": false,
   "autocomplete": true,
   "bibliofile": "biblio.bib",
   "cite_by": "apalike",
   "current_citInitial": 1,
   "eqLabelWithNumbers": true,
   "eqNumInitial": 1,
   "hotkeys": {
    "equation": "Ctrl-E",
    "itemize": "Ctrl-I"
   },
   "labels_anchors": false,
   "latex_user_defs": false,
   "report_style_numbering": false,
   "user_envs_cfg": false
  },
  "nteract": {
   "version": "0.2.0"
  }
 },
 "nbformat": 4,
 "nbformat_minor": 2
}